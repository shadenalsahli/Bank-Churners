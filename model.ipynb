{
  "nbformat": 4,
  "nbformat_minor": 0,
  "metadata": {
    "colab": {
      "provenance": [],
      "collapsed_sections": []
    },
    "kernelspec": {
      "name": "python3",
      "display_name": "Python 3"
    },
    "language_info": {
      "name": "python"
    }
  },
  "cells": [
    {
      "cell_type": "markdown",
      "source": [
        "# **1. Packages**"
      ],
      "metadata": {
        "id": "9PjbrMNSfZLP"
      }
    },
    {
      "cell_type": "code",
      "metadata": {
        "id": "LzyPtIROlGQl"
      },
      "source": [
        "import pandas as pd\n",
        "from matplotlib import pyplot as plt\n",
        "from sklearn.metrics import  accuracy_score, confusion_matrix, f1_score\n",
        "from sklearn.model_selection import GridSearchCV\n",
        "from xgboost import XGBClassifier\n",
        "from sklearn.neural_network import MLPClassifier\n",
        "import warnings\n",
        "warnings.filterwarnings('ignore')\n",
        "import preprocess as p"
      ],
      "execution_count": null,
      "outputs": []
    },
    {
      "cell_type": "markdown",
      "source": [
        "# **2. Functions**"
      ],
      "metadata": {
        "id": "zOCsEc5lfgZA"
      }
    },
    {
      "cell_type": "code",
      "metadata": {
        "id": "Y37aMXW8MndS"
      },
      "source": [
        "def train_mlp(train_X, train_y): \n",
        "\n",
        "  MLP = MLPClassifier(activation = 'relu', solver = 'adam')\n",
        "\n",
        "  # To Select the best number of units in the middle hidden layer and the max_iter (epochs)\n",
        "  param_grid = dict(hidden_layer_sizes = [16,32,64], max_iter = [10,15,20,50])\n",
        "\n",
        "  # cv is the cross validation\n",
        "  GridSearch = GridSearchCV(MLP, param_grid = param_grid, scoring = accuracy_score, cv = 10)\n",
        "\n",
        "  GridSearch.fit(train_X, train_y)\n",
        "\n",
        "  best_model = GridSearch.best_estimator_\n",
        "\n",
        "  return best_model\n",
        "  "
      ],
      "execution_count": null,
      "outputs": []
    },
    {
      "cell_type": "code",
      "metadata": {
        "id": "awm5SMtiN_oZ"
      },
      "source": [
        "def train(train_X, train_y): \n",
        "\n",
        "  XGB = XGBClassifier(eval_metric = \"logloss\", early_stopping_rounds = 10)\n",
        "\n",
        "  # To Select the best learning rate and n_estimators (epochs)\n",
        "  param_grid = dict(learning_rate = [1e-2, 1e-3, 1e-4], n_estimators = [10,15,20,50])\n",
        "\n",
        "  # cv is the cross validation\n",
        "  GridSearch = GridSearchCV(XGB, param_grid = param_grid, scoring = accuracy_score, cv = 10)\n",
        "\n",
        "  GridSearch.fit(train_X, train_y, eval_set=[(train_X, train_y)], verbose=False)\n",
        "\n",
        "  best_model = GridSearch.best_estimator_\n",
        "\n",
        "  return best_model\n"
      ],
      "execution_count": null,
      "outputs": []
    },
    {
      "cell_type": "code",
      "metadata": {
        "id": "LCDtOgPdBmU6"
      },
      "source": [
        "def predict_evalute(test_X,test_y, model):\n",
        "  \n",
        "  # Predict \n",
        "  pred_y = model.predict(test_X)\n",
        "\n",
        "  print(\"Accuracy:\", \"{:.8f}\".format(accuracy_score(test_y, pred_y)), \"\\n\")\n",
        "\n",
        "  print(\"F1 Score:\", \"{:.8f}\".format(f1_score(test_y, pred_y)),'\\n')\n",
        "\n",
        "  print(\"Confusion matrix:\\n\\n\",confusion_matrix(test_y, pred_y)) \n"
      ],
      "execution_count": null,
      "outputs": []
    },
    {
      "cell_type": "markdown",
      "source": [
        "# **3. Loading and Preprocessing the Dataset**"
      ],
      "metadata": {
        "id": "9sKX1O6WftUF"
      }
    },
    {
      "cell_type": "code",
      "metadata": {
        "id": "gmnLue9xL8e8"
      },
      "source": [
        "path_to_data=\"BankChurners1.csv\"\n",
        "\n",
        "# loading dataset\n",
        "data = pd.read_csv(path_to_data)\n",
        "\n",
        "# removing Nan if any in dataset\n",
        "data = data.dropna() \n",
        "\n",
        "preprocessData = p.preprocess_data(data)\n",
        "\n",
        "train_X, test_X, train_y, test_y = p.split(preprocessData)"
      ],
      "execution_count": null,
      "outputs": []
    },
    {
      "cell_type": "markdown",
      "source": [
        "# **4. Main**"
      ],
      "metadata": {
        "id": "eazlkPNOgEgn"
      }
    },
    {
      "cell_type": "code",
      "metadata": {
        "id": "b7Mo9p1yqP03",
        "colab": {
          "base_uri": "https://localhost:8080/",
          "height": 947
        },
        "outputId": "aaa599a3-adc0-4ffa-ab3a-19e8f9868d2e"
      },
      "source": [
        "MLP_best_model = train_mlp(train_X, train_y)\n",
        "\n",
        "print(\"-------------------Loss curve, Accuracy, F1 Score, and Confusion matrix for MLP model-------------------\")\n",
        "\n",
        "# Plot the loss against each epochs\n",
        "plt.plot(MLP_best_model.loss_curve_)\n",
        "plt.title(\"Loss against each epoch\")\n",
        "plt.xlabel('epochs')\n",
        "plt.ylabel('loss')\n",
        "plt.legend(['train'], loc='upper right')\n",
        "plt.show()\n",
        "\n",
        "# Predict & evalute\n",
        "predict_evalute(test_X, test_y, MLP_best_model)\n",
        "\n",
        "print(\"--------------------------------------------------------------------------------------------------------\\n\\n\")\n",
        "\n",
        "\n",
        "best_model = train(train_X, train_y)\n",
        "\n",
        "print(\"--------------Loss curve, Accuracy, F1 Score, and Confusion matrix for the chosen model--------------\")\n",
        "\n",
        "# Plot the loss against each epochs\n",
        "results = best_model.evals_result()\n",
        "plt.plot(results['validation_0']['logloss'])\n",
        "plt.title(\"Loss against each epoch\")\n",
        "plt.xlabel('epochs')\n",
        "plt.ylabel('loss')\n",
        "plt.legend(['train'], loc='upper right')\n",
        "plt.show()\n",
        "\n",
        "# Predict & evalute\n",
        "predict_evalute(test_X, test_y, best_model)\n",
        "\n",
        "print(\"----------------------------------\")\n",
        "\n",
        "\n"
      ],
      "execution_count": null,
      "outputs": [
        {
          "output_type": "stream",
          "name": "stdout",
          "text": [
            "-------------------Loss curve, Accuracy, F1 Score, and Confusion matrix for MLP model-------------------\n"
          ]
        },
        {
          "output_type": "display_data",
          "data": {
            "image/png": "[encoded data removed]",
            "text/plain": [
              "<Figure size 432x288 with 1 Axes>"
            ]
          },
          "metadata": {
            "needs_background": "light"
          }
        },
        {
          "output_type": "stream",
          "name": "stdout",
          "text": [
            "Accuracy: 0.51924975 \n",
            "\n",
            "F1 Score: 0.53751187 \n",
            "\n",
            "Confusion matrix:\n",
            "\n",
            " [[486 543]\n",
            " [431 566]]\n",
            "--------------------------------------------------------------------------------------------------------\n",
            "\n",
            "\n",
            "--------------Loss curve, Accuracy, F1 Score, and Confusion matrix for the chosen model--------------\n"
          ]
        },
        {
          "output_type": "display_data",
          "data": {
            "image/png": "[encoded data removed]",
            "text/plain": [
              "<Figure size 432x288 with 1 Axes>"
            ]
          },
          "metadata": {
            "needs_background": "light"
          }
        },
        {
          "output_type": "stream",
          "name": "stdout",
          "text": [
            "Accuracy: 0.49210267 \n",
            "\n",
            "F1 Score: 0.65893271 \n",
            "\n",
            "Confusion matrix:\n",
            "\n",
            " [[   3 1026]\n",
            " [   3  994]]\n",
            "----------------------------------\n"
          ]
        }
      ]
    }
  ]
}